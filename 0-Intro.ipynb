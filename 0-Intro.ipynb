{
 "cells": [
  {
   "attachments": {},
   "cell_type": "markdown",
   "metadata": {},
   "source": [
    "# Power BI \n",
    "\n",
    "![img](https://th.bing.com/th/id/R.02a753e89bc3743858e6ff1fbf1eab4f?rik=ipQzKgk6esTtkA&pid=ImgRaw&r=0)"
   ]
  },
  {
   "attachments": {},
   "cell_type": "markdown",
   "metadata": {},
   "source": [
    "## Introducción\n",
    "\n",
    "### ¿Qué es Power BI?\n",
    "Power BI es una **colección de servicios** de software, aplicaciones y conectores que funcionan conjuntamente para **convertir** orígenes de **datos** sin relación entre sí **en información** coherente, interactiva y atractiva visualmente"
   ]
  },
  {
   "attachments": {},
   "cell_type": "markdown",
   "metadata": {},
   "source": [
    "### ¿Qué servicios posee?\n",
    "\n",
    "Power BI consta de varios [elementos](https://learn.microsoft.com/es-es/power-bi/fundamentals/power-bi-overview) que funcionan de manera conjunta, empezando por estos tres conceptos básicos:\n",
    "\n",
    "- Aplicación [Power BI Desktop](https://learn.microsoft.com/es-es/power-bi/fundamentals/desktop-what-is-desktop)\n",
    "\n",
    "- Servicio Power BI\n",
    "\n",
    "- Aplicación móvil Power BI Mobile\n"
   ]
  },
  {
   "attachments": {},
   "cell_type": "markdown",
   "metadata": {},
   "source": [
    "#### Power BI Desktop:\n",
    "\n",
    "- Aplicación de escritorio\n",
    "- Desarrollo y creación de informes\n",
    "- Funcionalidades avanzadas de modelado y cálculos\n",
    "- Trabaja sin conexión a internet\n",
    "- Mayor flexibilidad y personalización\n",
    "- Archivos locales de informes (.pbix)\n",
    "\n",
    "#### Power BI Service:\n",
    "\n",
    "- Plataforma en la nube\n",
    "- Acceso a través de un navegador web\n",
    "- Publicación, uso compartido y colaboración en informes y paneles\n",
    "- Actualizaciones programadas de datos\n",
    "- Acceso desde cualquier dispositivo\n",
    "- Mayor enfoque en compartir y consumir informes\n",
    "- Permite acceso a archivos en línea (.pbix) y contenido compartido\n",
    "\n",
    "#### Power BI Mobile:\n",
    "\n",
    "- Aplicación móvil\n",
    "- Acceso desde dispositivos móviles (iOS y Android)\n",
    "- Visualización y consumo de informes y paneles\n",
    "- Interfaz adaptada para dispositivos móviles\n",
    "- Acceso en tiempo real a informes actualizados\n",
    "- Funcionalidades de exploración e interacción táctil\n",
    "- Soporte para notificaciones y alertas\n",
    "- Colaboración y comentarios en informes móviles"
   ]
  },
  {
   "attachments": {},
   "cell_type": "markdown",
   "metadata": {},
   "source": [
    "### Bloques de creacion básicos:\n",
    "\n",
    "- **Visualizaciones**: representaciones visuales de los datos, a veces denominadas sencillamente \"objetos visuales\".\n",
    "- Conjunto de datos (**datasets**): colecciones de datos que Power BI utiliza para crear visualizaciones.\n",
    "- **Informes** (reports): colecciones de objetos visuales de un conjunto de datos que pueden ocupar una o varias páginas.\n",
    "- Panel (**dashboards**): colecciones de objetos visuales de una página de extensión, creados a partir de un informe.\n",
    "- **Iconos** (tiles): instantáneas de los datos en un panel.\n"
   ]
  },
  {
   "attachments": {},
   "cell_type": "markdown",
   "metadata": {},
   "source": [
    "## Obtención de datos Power BI"
   ]
  },
  {
   "attachments": {},
   "cell_type": "markdown",
   "metadata": {},
   "source": [
    "![img_data](img/flow.jpg)"
   ]
  },
  {
   "attachments": {},
   "cell_type": "markdown",
   "metadata": {},
   "source": [
    "### Fuente de extracción de datos:\n",
    "![img-obt-datos](img/obt-datos.png)\n",
    "\n",
    "- **Archivos planos**:\n",
    "    - XLSX\n",
    "    - CSV\n",
    "    - TXT\n",
    "    - ...\n",
    "- Bases de datos relacionales (**SQL**)\n",
    "- Bases de datos no relacionales (**NoSQL**)\n",
    "- **Servicios en línea**:\n",
    "    - OneDrive\n",
    "    - Dynamics 365\n",
    "    - Google Analytics\n",
    "    - ...\n",
    "\n",
    "[Curso obtención de datos Power BI](https://learn.microsoft.com/es-es/training/modules/get-data/)\n"
   ]
  },
  {
   "attachments": {},
   "cell_type": "markdown",
   "metadata": {},
   "source": [
    "#### Archivos planos:"
   ]
  },
  {
   "attachments": {},
   "cell_type": "markdown",
   "metadata": {},
   "source": [
    "   - **Descripción**: Los archivos planos son documentos que contienen datos estructurados en filas y columnas, como hojas de cálculo de Excel (XLSX), archivos CSV o archivos de texto (TXT).\n",
    "\n",
    "   - **Proceso**: Los archivos planos se importan directamente a Power BI, donde se pueden realizar transformaciones y limpieza de datos.\n",
    "   \n",
    "   - **Uso**: Ideal para obtener datos de fuentes individuales o archivos exportados que contienen información tabular.\n",
    "\n",
    "##### Proceso: \n",
    "- Se selecciona la **ruta del archivo**\n",
    "\n",
    "    - *Local*: los datos se copian, es decir, los cambios realizados en el archivo origen no afecta a los datos que utiliza el informe BI.\n",
    "\n",
    "    - *Cloud*: permite la actualización de los datos.\n",
    "    \n",
    "        - OneDrive - Empresa\n",
    "\n",
    "        - OneDrive - Personal\n",
    "        \n",
    "        - SharePoint \n",
    "        \n",
    "- Se puede **cargar** o **transformar** (editor *PowerQuery*)\n",
    "\n",
    "\n",
    "![img_local_vs_cloud](img/2-local-vs-cloud-c.png)"
   ]
  },
  {
   "attachments": {},
   "cell_type": "markdown",
   "metadata": {},
   "source": [
    "#### BBDD relacionales (SQL):"
   ]
  },
  {
   "attachments": {},
   "cell_type": "markdown",
   "metadata": {},
   "source": [
    "- **Descripción**: Las bases de datos relacionales son sistemas de gestión de bases de datos (RDBMS) como Microsoft SQL Server, Oracle, MySQL, PostgreSQL, entre otros.\n",
    "\n",
    "- **Proceso**: Power BI se conecta a la base de datos relacional y extrae los datos mediante consultas SQL o lenguajes de consulta específicos del RDBMS.\n",
    "\n",
    "- **Uso**: Adecuado para obtener datos de sistemas de bases de datos estructurados con relaciones definidas entre tablas.\n",
    "\n",
    "![img_sql](img/3-get-data-sql-server-ssm.png)"
   ]
  },
  {
   "attachments": {},
   "cell_type": "markdown",
   "metadata": {},
   "source": [
    "#### BBDD no relacionales (NoSQL):\n",
    "![img-nosql](img/4-get-data-cosmos-ssm.png)\n",
    "- **Descripción**: Las bases de datos no relacionales son sistemas de almacenamiento de datos que no siguen una estructura de tablas y relaciones como las bases de datos relacionales. Ejemplos incluyen MongoDB, Cassandra, Azure Cosmos DB, entre otros.\n",
    "\n",
    "- **Proceso**: Power BI se conecta a la base de datos no relacional y extrae los datos según la estructura específica de esa base de datos, como documentos, gráficos o columnas.\n",
    "\n",
    "- **Uso**: Útil cuando los datos se almacenan en estructuras no tabulares y es necesario acceder a ellos para análisis y visualización.\n"
   ]
  },
  {
   "attachments": {},
   "cell_type": "markdown",
   "metadata": {},
   "source": [
    "#### Servicios en línea:\n",
    "\n",
    "   - **Descripción**: Los servicios en línea son aplicaciones o plataformas en la nube que ofrecen datos accesibles a través de APIs o conectores específicos. Ejemplos incluyen Azure Data Lake Storage, SharePoint Online, Google Analytics, Salesforce, entre otros.\n",
    "\n",
    "   - **Proceso**: Power BI se conecta directamente al servicio en línea y extrae los datos utilizando los conectores y las APIs proporcionadas.\n",
    "   \n",
    "   - **Uso**: Ideal para obtener datos en tiempo real de servicios en línea, como análisis web, CRM o plataformas de almacenamiento en la nube."
   ]
  },
  {
   "attachments": {},
   "cell_type": "markdown",
   "metadata": {},
   "source": [
    "### Modos de almacenamiento:"
   ]
  },
  {
   "attachments": {},
   "cell_type": "markdown",
   "metadata": {},
   "source": [
    "Distintos [modos de almacenamiento](https://learn.microsoft.com/es-es/power-bi/transform-model/desktop-storage-mode) de los datos:\n",
    "\n",
    "- Importar\n",
    "\n",
    "- DirectQuery\n",
    "\n",
    "- Dual "
   ]
  },
  {
   "attachments": {},
   "cell_type": "markdown",
   "metadata": {},
   "source": [
    "![img-almacenamiento](img/pwc_modo_almacenamiento.jpg)"
   ]
  },
  {
   "attachments": {},
   "cell_type": "markdown",
   "metadata": {},
   "source": [
    "Modo de Almacenamiento en Power BI:\n",
    "\n",
    "\n",
    "|| DirectQuery     | Importación  |     Dual     |\n",
    "|-----------------|--------------|--------------|---|\n",
    "| Consultas en tiempo real  |     Sí       |     No       |Sí|\n",
    "| Actualiza datos automáticamente     |     No       |     Sí       |Sí|\n",
    "| Escalabilidad de datos  |    Alta      |    Media     | Alta|\n",
    "\n",
    "\n"
   ]
  },
  {
   "attachments": {},
   "cell_type": "markdown",
   "metadata": {},
   "source": [
    "**DirectQuery**:\n",
    "\n",
    "- *Consultas en tiempo real*: \n",
    "\n",
    "    Las consultas realizadas a las visualizaciones se ejecutan directamente en el origen de datos en tiempo real.\n",
    "\n",
    "- *Actualización automática*: \n",
    "\n",
    "    No se almacenan datos en caché en Power BI, por lo que los datos siempre se consultan en tiempo real desde el origen de datos.\n",
    "\n",
    "- *Escalabilidad de datos*: \n",
    "\n",
    "    Alta, ya que no hay límite en el tamaño de los datos debido a que no se almacenan en Power BI.\n",
    "\n",
    "**Importación**:\n",
    "\n",
    "- *Consultas en tiempo real*: \n",
    "\n",
    "    No se realizan consultas en tiempo real. Las consultas se ejecutan en los datos importados y almacenados en caché en Power BI.\n",
    "\n",
    "- Actualización automática: \n",
    "\n",
    "    Los datos importados se pueden actualizar automáticamente según la programación establecida.\n",
    "\n",
    "- Escalabilidad de datos: \n",
    "\n",
    "    Media, ya que los datos importados se almacenan en Power BI y el rendimiento puede verse afectado por el tamaño y la cantidad de datos importados.\n",
    "\n",
    "**Dual**:\n",
    "\n",
    "- *Consultas en tiempo real*: \n",
    "\n",
    "    Las consultas se pueden satisfacer desde los datos en caché o mediante consultas a petición al origen de datos según el contexto.\n",
    "\n",
    "- *Actualización automática*: \n",
    "\n",
    "    Los datos en caché se pueden actualizar automáticamente según la programación establecida.\n",
    "\n",
    "- *Escalabilidad de datos*: \n",
    "\n",
    "    Alta, ya que los datos en caché proporcionan una rápida respuesta a las consultas, y en caso necesario, se puede recurrir a las consultas al origen de datos.\n",
    "\n",
    "La elección del modo de almacenamiento depende de varios factores, como la naturaleza de los datos, la frecuencia de actualización, el rendimiento requerido y la capacidad del origen de datos."
   ]
  },
  {
   "attachments": {},
   "cell_type": "markdown",
   "metadata": {},
   "source": []
  }
 ],
 "metadata": {
  "language_info": {
   "name": "python"
  },
  "orig_nbformat": 4
 },
 "nbformat": 4,
 "nbformat_minor": 2
}
