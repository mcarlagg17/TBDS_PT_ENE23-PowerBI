{
 "cells": [
  {
   "attachments": {},
   "cell_type": "markdown",
   "metadata": {},
   "source": [
    "# Modelos de datos Power BI:\n",
    "![img](https://th.bing.com/th/id/R.02a753e89bc3743858e6ff1fbf1eab4f?rik=ipQzKgk6esTtkA&pid=ImgRaw&r=0)"
   ]
  },
  {
   "attachments": {},
   "cell_type": "markdown",
   "metadata": {},
   "source": [
    "[Documentación](https://learn.microsoft.com/es-es/power-bi/transform-model/)"
   ]
  },
  {
   "attachments": {},
   "cell_type": "markdown",
   "metadata": {},
   "source": [
    "## Descripción de algunos modelos de datos: "
   ]
  },
  {
   "attachments": {},
   "cell_type": "markdown",
   "metadata": {},
   "source": [
    "### Modelo de datos relacional:\n",
    "   - **Estructura**: Los datos se organizan en tablas relacionales con filas y columnas.\n",
    "\n",
    "   - **Relaciones**: Se establecen relaciones entre las tablas utilizando claves primarias y claves externas.\n",
    "   \n",
    "   - **Uso**: Ideal para conjuntos de datos estructurados con relaciones claras entre entidades.\n",
    "\n",
    "### Modelo de datos en estrella:\n",
    "\n",
    "![star](img/star-schema.png)\n",
    "\n",
    "   - **Estructura**: Los datos se organizan en una tabla de hechos central que contiene métricas y tablas de dimensiones relacionadas.\n",
    "   \n",
    "   - **Relaciones**: Las tablas de dimensiones se relacionan con la tabla de hechos utilizando claves primarias y claves externas.\n",
    "   \n",
    "   - **Uso**: Es adecuado para análisis de negocios donde se requiere un enfoque en métricas y análisis multidimensional.\n",
    "\n",
    "### Modelo de datos en copo de nieve:\n",
    "\n",
    "![snowflake](img/snowflake-schemas.webp)\n",
    "\n",
    "   - **Estructura**: Similar al modelo de datos en estrella, pero las tablas de dimensiones se descomponen en subtablas relacionadas.\n",
    "   \n",
    "   - **Relaciones**: Se establecen relaciones entre las subtablas utilizando claves primarias y claves externas.\n",
    "   \n",
    "   - **Uso**: Útil cuando las tablas de dimensiones tienen relaciones más complejas y requieren un mayor nivel de normalización.\n",
    "\n",
    "### Modelo de datos denormalizado:\n",
    "   \n",
    "   - **Estructura**: Los datos se almacenan en una sola tabla sin descomponer en tablas relacionadas.\n",
    "   \n",
    "   - **Relaciones**: No hay relaciones explícitas, pero se pueden realizar fusiones y combinaciones de tablas en consultas.\n",
    "   \n",
    "   - **Uso**: Es adecuado para conjuntos de datos más simples o cuando se prioriza la simplicidad sobre la estructura relacional.\n",
    "\n",
    "### Modelo de datos en tiempo real:\n",
    "   \n",
    "   - **Estructura**: Los datos se obtienen y se consultan en tiempo real directamente desde el origen de datos en cada solicitud.\n",
    "   \n",
    "   - **Relaciones**: Las consultas se realizan directamente al origen de datos utilizando lenguajes de consulta como SQL.\n",
    "   \n",
    "   - **Uso**: Útil cuando se requiere acceso a datos en tiempo real y se prioriza la frescura de los datos sobre el rendimiento.\n"
   ]
  },
  {
   "attachments": {},
   "cell_type": "markdown",
   "metadata": {},
   "source": [
    "## ¿Por qué es tan importante y utilizado el modelo en estrella?"
   ]
  },
  {
   "attachments": {},
   "cell_type": "markdown",
   "metadata": {},
   "source": [
    "\n",
    "El modelo de datos en estrella es ampliamente utilizado y considerado importante en Power BI y otras herramientas de análisis de datos por varias razones:\n",
    "\n",
    "1. `Análisis multidimensional`: El modelo de datos en estrella permite realizar análisis multidimensional, lo que significa que puedes analizar los datos en diferentes dimensiones y niveles de agregación. Esto es especialmente útil cuando deseas explorar datos desde diferentes perspectivas y realizar análisis de granularidad variable.\n",
    "\n",
    "2. `Eficiencia en consultas`: El modelo de datos en estrella utiliza una tabla de hechos central que contiene las métricas clave y las tablas de dimensiones relacionadas. Esto permite un acceso rápido a los datos y un rendimiento eficiente en las consultas, ya que las consultas pueden aprovechar las relaciones predefinidas y realizar cálculos sobre las métricas de manera optimizada.\n",
    "\n",
    "3. `Simplificación de estructura`: El modelo de datos en estrella simplifica la estructura de los datos al separar las métricas (tabla de hechos) de las dimensiones relacionadas (tablas de dimensiones). Esto hace que el modelo sea más fácil de entender y mantener, y facilita la navegación y el análisis de los datos.\n",
    "\n",
    "4. `Flexibilidad en el diseño`: El modelo de datos en estrella permite agregar y desglosar datos de manera flexible utilizando las tablas de dimensiones. Puedes agregar nuevas dimensiones y métricas a medida que evoluciona tu análisis, lo que te brinda la capacidad de adaptarte y expandir tu modelo según las necesidades cambiantes de tu negocio.\n",
    "\n",
    "5. `Integración con herramientas de análisis`: El modelo de datos en estrella es compatible con herramientas y técnicas populares de análisis de datos, como OLAP (Procesamiento Analítico en Línea) y cubos de datos. Esto facilita la integración con otras herramientas de análisis y te brinda la capacidad de aprovechar funciones avanzadas, como el cálculo de agregaciones, el análisis de escenarios y la segmentación de datos.\n"
   ]
  },
  {
   "attachments": {},
   "cell_type": "markdown",
   "metadata": {},
   "source": [
    "Ver más sobre la [importancia modelo de datos en estrella](https://learn.microsoft.com/es-es/power-bi/guidance/star-schema)."
   ]
  },
  {
   "attachments": {},
   "cell_type": "markdown",
   "metadata": {},
   "source": [
    "|   Esquema en estrella    |    Esquema copo de nieve    |\n",
    "|--------------|----------------|\n",
    "| ![Imagen 1](img/estrella.html)| ![Imagen 2](img/copodenieve.jpg) |\n"
   ]
  },
  {
   "attachments": {},
   "cell_type": "markdown",
   "metadata": {},
   "source": [
    "### Tablas de hechos y tablas de dimensiones: \n",
    "\n",
    "Las tablas de hechos y las tablas de dimensiones son componentes clave en el modelo de datos en estrella y se utilizan para organizar y relacionar los datos de manera efectiva en Power BI y otras herramientas de análisis de datos.\n",
    "\n",
    "|                |Tabla de Hechos                                   |Tabla de Dimensiones                                             |\n",
    "|----------------|--------------------------------------------------|-----------------------------------------------------------------|\n",
    "|Descripción     |Tabla central que contiene métricas cuantitativas  |Tabla que proporciona contexto y descripción a las métricas       |\n",
    "|Estructura      |Filas y columnas que almacenan valores numéricos   |Atributos descriptivos organizados jerárquicamente                |\n",
    "|Granularidad    |Datos detallados a nivel de transacciones o eventos|Niveles de agregación y desglose de datos                         |\n",
    "|Relaciones      |Se relaciona con tablas de dimensiones             |Se relaciona con la tabla de hechos mediante claves externas      |\n",
    "|Función         |Permite realizar cálculos y análisis numéricos     |Proporciona contexto y permite el análisis multidimensional       |\n"
   ]
  }
 ],
 "metadata": {
  "language_info": {
   "name": "python"
  },
  "orig_nbformat": 4
 },
 "nbformat": 4,
 "nbformat_minor": 2
}
