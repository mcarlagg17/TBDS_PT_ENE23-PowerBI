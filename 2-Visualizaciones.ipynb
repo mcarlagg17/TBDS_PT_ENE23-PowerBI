{
 "cells": [
  {
   "attachments": {},
   "cell_type": "markdown",
   "metadata": {},
   "source": [
    "# Resumen de Objetos Visuales en Power BI:\n",
    "![img-vis](img/visualizaciones.png)\n",
    "\n",
    "\n",
    "[Introduccion a objetos visuales en Power BI](https://learn.microsoft.com/es-es/training/modules/visuals-power-bi/1-introduction)"
   ]
  },
  {
   "attachments": {},
   "cell_type": "markdown",
   "metadata": {},
   "source": [
    "\n",
    "\n",
    "## Gráficos:\n",
    "   - Gráfico de barras: Visualización que muestra la relación entre categorías y valores mediante barras horizontales o verticales.\n",
    "   - Gráfico de columnas: Visualización similar al gráfico de barras, pero con columnas verticales.\n",
    "   - Gráfico de líneas: Visualización que muestra la tendencia de los datos a lo largo del tiempo o una variable continua.\n",
    "   - Gráfico de áreas: Visualización que muestra la relación entre categorías y valores mediante áreas sombreadas.\n",
    "   - Gráfico circular: Visualización que muestra la proporción de diferentes categorías en un círculo dividido en secciones.\n",
    "   - Gráfico de dispersión: Visualización que muestra la relación entre dos variables numéricas mediante puntos en un plano cartesiano.\n",
    "\n",
    "## Tablas y Matrices:\n",
    "   - Tabla: Visualización que muestra los datos en filas y columnas, ideal para mostrar información detallada y estructurada.\n",
    "   - Matriz: Visualización similar a una tabla, pero permite agrupar y resumir datos en filas y columnas.\n",
    "\n",
    "## Mapas:\n",
    "   - Mapa de calor: Visualización que muestra la densidad o intensidad de los datos en un mapa utilizando colores.\n",
    "   - Mapa de puntos: Visualización que muestra ubicaciones geográficas como puntos en un mapa.\n",
    "   - Mapa de líneas: Visualización que muestra conexiones o trayectorias entre ubicaciones geográficas.\n",
    "\n",
    "## Visualizaciones Especiales:\n",
    "   - Tarjetas: Visualización que muestra un valor o métrica específica en un formato destacado.\n",
    "   - KPIs (Indicadores Clave de Rendimiento): Visualización que muestra métricas clave y su desempeño en relación con objetivos establecidos.\n",
    "   - Histograma: Visualización que muestra la distribución de datos en forma de barras.\n",
    "\n",
    "## Otros objetos visuales:\n",
    "   - Imágenes: Permite agregar imágenes personalizadas a los informes.\n",
    "   - Formas: Permite agregar formas personalizadas, como cuadrados o círculos, a los informes.\n",
    "   - Texto: Permite agregar texto personalizado para proporcionar contexto o explicaciones adicionales en los informes.\n",
    "\n"
   ]
  }
 ],
 "metadata": {
  "language_info": {
   "name": "python"
  },
  "orig_nbformat": 4
 },
 "nbformat": 4,
 "nbformat_minor": 2
}
