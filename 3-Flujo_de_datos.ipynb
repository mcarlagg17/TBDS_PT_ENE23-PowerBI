{
 "cells": [
  {
   "attachments": {},
   "cell_type": "markdown",
   "metadata": {},
   "source": [
    "# Flujos de datos:\n",
    "![img-dataflow](img/dataflows-introduction-self-service-flow.png)"
   ]
  },
  {
   "attachments": {},
   "cell_type": "markdown",
   "metadata": {},
   "source": [
    "## ¿Qué es un [dataflow](https://learn.microsoft.com/es-es/power-bi/transform-model/dataflows/dataflows-introduction-self-service) o flujo de datos en Power BI?\n",
    "\n",
    "Un dataflow (flujo de datos) en Power BI es un `conjunto de operaciones de preparación de datos` que se aplican a una fuente de datos para transformarlos y modelarlos de manera consistente. Un dataflow permite crear una estructura de datos unificada y enriquecida que se puede utilizar en múltiples informes y paneles.\n",
    "\n",
    "### Tareas principales:\n",
    "\n",
    "El caso de uso principal de un dataflow es centralizar y estandarizar la preparación de datos. Al implementar un dataflow, puedes realizar las siguientes tareas:\n",
    "\n",
    "1. **Conexión y selección de la fuente de datos**: Comienza conectando a la fuente de datos deseada, que puede ser una base de datos, un archivo, un servicio en línea, entre otros. Power BI proporciona conectores para una amplia gama de fuentes de datos.\n",
    "\n",
    "2. **Transformación y limpieza de datos**: Una vez conectado a la fuente de datos, puedes aplicar operaciones de transformación para dar forma y estructurar los datos según tus necesidades. Esto incluye filtrar filas, eliminar columnas no deseadas, combinar tablas, crear columnas calculadas y más. Power BI ofrece herramientas intuitivas para realizar estas operaciones de manera visual.\n",
    "\n",
    "3. **Creación de consultas de datos**: En un dataflow, puedes crear consultas de datos mediante el uso de lenguajes de consulta como Power Query M. Estas consultas permiten filtrar, agrupar y transformar los datos de acuerdo con los criterios específicos de tu análisis.\n",
    "\n",
    "4. **Enriquecimiento de datos**: Puedes enriquecer los datos mediante la adición de columnas calculadas, jerarquías, metadatos y otros atributos que proporcionen un contexto adicional a los datos. Esto facilita la comprensión y el análisis de los datos en informes y paneles posteriores.\n",
    "\n",
    "5. **Programación de actualizaciones**: Puedes establecer una programación de actualización automática para mantener tus datos actualizados en el dataflow. Esto puede ser útil si los datos subyacentes cambian con frecuencia.\n",
    "\n",
    "6. **Uso compartido y reutilización**: Una vez que hayas creado un dataflow, puedes compartirlo y reutilizarlo en varios informes y paneles. Esto garantiza la consistencia y la integridad de los datos en toda la organización.\n",
    "\n",
    "Al implementar un dataflow, se sigue un flujo de trabajo general que incluye la conexión a la fuente de datos, la transformación y limpieza de datos, la creación de consultas y la programación de actualizaciones. Power BI Desktop y Power BI Service proporcionan interfaces intuitivas para crear y administrar dataflows.\n"
   ]
  }
 ],
 "metadata": {
  "language_info": {
   "name": "python"
  },
  "orig_nbformat": 4
 },
 "nbformat": 4,
 "nbformat_minor": 2
}
